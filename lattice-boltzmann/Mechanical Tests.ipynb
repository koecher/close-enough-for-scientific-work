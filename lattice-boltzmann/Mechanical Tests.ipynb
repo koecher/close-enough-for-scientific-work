{
 "cells": [
  {
   "cell_type": "markdown",
   "metadata": {},
   "source": [
    "## Mechanical Tests\n",
    "\n",
    "Mechanical tests check an implementation without regards for the science that underpins the code. This approach is often used when testing smaller chunks of code in isolation, e.g. unit-testing. The test can be given input that is as much physical nonsense, and return unphysical outputs, as long as the flow of data and data transformations are the same. Lets go directly to a simple example.\n",
    "\n",
    "### Easy but unphysical input\n",
    "\n",
    "When examining fluid flows, we are interested in the momentum $\\mu$ at each lattice site. It can be obtained as the sum over the momentum of the particles at the site. However, lets promptly forget about the physics. Here is what the function looks like:"
   ]
  },
  {
   "cell_type": "code",
   "execution_count": 1,
   "metadata": {
    "collapsed": false
   },
   "outputs": [
    {
     "data": {
      "text/plain": [
       "momentum (generic function with 1 method)"
      ]
     },
     "execution_count": 1,
     "metadata": {},
     "output_type": "execute_result"
    }
   ],
   "source": [
    "momentum(fᵢ::DenseVector, cᵢ::DenseMatrix) = cᵢ * fᵢ"
   ]
  },
  {
   "cell_type": "markdown",
   "metadata": {},
   "source": [
    "We could try and setup physical inputs for this function and test the result. But it is much simpler to check using short integer inputs, rather than the longer floating points vectors and matrices the function will be given during an actual Lattice-Boltzmann calculation."
   ]
  },
  {
   "cell_type": "code",
   "execution_count": 2,
   "metadata": {
    "collapsed": false
   },
   "outputs": [
    {
     "name": "stdout",
     "output_type": "stream",
     "text": [
      "Check momentum function over single site\n",
      "2 facts verified.\n"
     ]
    }
   ],
   "source": [
    "using FactCheck: @fact, facts\n",
    "facts(\"Check momentum function over single site\") do\n",
    "    @fact momentum([1, 1], [1 2; 3 4]) => [3, 7]\n",
    "    @fact momentum([-1, 1], [1 2; 3 4]) => [1, 1]\n",
    "end\n",
    "nothing"
   ]
  },
  {
   "cell_type": "markdown",
   "metadata": {},
   "source": [
    "Sure, the `momentum` function is short and simple. But cutting the code down to size is what unit-testing is all about; it is to make testing (and coding) simpler that we adopt a coding style with short functions. We could copy that one line of code `cᵢ * fᵢ` and paste it everywhere `momentum` is used. Or we can make it a tested function, use it where the momentum is needed, and never have to worry about how momentum is computed anymore. And using input crafted for simplicity rather than physicality will get a lot of mileage in more complex situations as well."
   ]
  },
  {
   "cell_type": "markdown",
   "metadata": {},
   "source": [
    "### Comparison with (simplified) test algorithm\n",
    "\n",
    "It is often possible to implement an algorithm several ways. For instance, when implementing the derivative of some function, it is a good idea to test it against the numerical derivatives, i.e. the comparison $\\frac{\\partial f(x)}{\\partial x} \\approx \\frac{f(x+\\delta x) - f(x)}{\\delta x}$. Implementing a functionality twice might seem like a waste of time, but in practice it often proves invaluable. It is much easier to understand where a bug has crept in when there is an alternate implementation that can be queried for intermediate values (e.g. value of some variable `x` halfway through the code). It is true that during the implementation phase, when neither the target code nor the test are known to work, it is not always clear which is responsible for a discrepancy. But it is a price worth paying in practice.\n",
    "\n",
    "This is how the function giving the fluid density $\\rho$ at a site $\\vec{r}$ is tested in LatBo. The density is defined simply as the sum over the number of particles at the site. The magic is that if the input that it is fed is a series, then we can use the result for a geometric series as a secondary algorithm $\\sum_{i=1}^Ni = 0.5N(N+1)$: "
   ]
  },
  {
   "cell_type": "code",
   "execution_count": 3,
   "metadata": {
    "collapsed": false
   },
   "outputs": [
    {
     "name": "stdout",
     "output_type": "stream",
     "text": [
      "Check density by comparing with geometric series\n",
      "2 facts verified.\n"
     ]
    }
   ],
   "source": [
    "using FactCheck: @fact, facts\n",
    "\n",
    "density(fᵢ::DenseVector) = sum(fᵢ)\n",
    "\n",
    "facts(\"Check density by comparing with geometric series\") do\n",
    "    series(N) = N * (N+1)/2\n",
    "    @fact density([1:10]) => series(10)\n",
    "    @fact density([10:15]) => series(15) - series(9)\n",
    "end\n",
    "nothing"
   ]
  },
  {
   "cell_type": "markdown",
   "metadata": {},
   "source": [
    "We've done two things here: (i) the input is simplified to integers, (ii) the algorithm of `density` is compared to another, `series`. As always, one should be wary that the test covers all use cases, especially when comparing to a restricted algorithm as done here. Due to the simplicity of the original algorithm, there is little doubt in this case that the test is sufficient."
   ]
  },
  {
   "cell_type": "markdown",
   "metadata": {},
   "source": [
    "### Checking for specific behaviours\n",
    "\n",
    "When testing, it is all too easy to convince one self that the numbers spewed by a piece of code are correct, when in fact they are garbage. Testing for behaviours instead is more robust. What kind of behaviour will depend on the actual method, but, in the case of mathematical functions, linearity is fairly common, at least for some arguments.\n",
    "\n",
    "The introduction to Lattice-Boltzmann at the beginning of this chapter described the collision step where particles are exchanged between different populations. At least within the so-called _single-relaxation time_ approximation, this step is very simple:"
   ]
  },
  {
   "cell_type": "code",
   "execution_count": 4,
   "metadata": {
    "collapsed": false
   },
   "outputs": [
    {
     "data": {
      "text/plain": [
       "collision (generic function with 1 method)"
      ]
     },
     "execution_count": 4,
     "metadata": {},
     "output_type": "execute_result"
    }
   ],
   "source": [
    "collision(τ⁻¹::Number, fᵢ::DenseVector, feq::DenseVector) = τ⁻¹ * (feq - fᵢ)"
   ]
  },
  {
   "cell_type": "markdown",
   "metadata": {},
   "source": [
    "We can (and should) test for each argument separately. The function is linear with respect to $\\tau^{-1}$ when the other variables are fixed. It is also linear with respect to `feq` ($f_i$) when $f_i == 0$ (`feq == 0`). And it is antisymmetric with respect to `feq` and $f_i$. Hence, the following tests:"
   ]
  },
  {
   "cell_type": "code",
   "execution_count": 5,
   "metadata": {
    "collapsed": false
   },
   "outputs": [
    {
     "name": "stdout",
     "output_type": "stream",
     "text": [
      "Behaviour of the single-relaxation time collision operator\n",
      "     - Linear vs τ⁻¹\n",
      "     - Linear vs fᵢ (and feq)\n",
      "     - Anti-symmetric vs fᵢ and feq\n",
      "     - Lock-down the sign\n",
      "6 facts verified.\n"
     ]
    }
   ],
   "source": [
    "using FactCheck: facts, @fact, context\n",
    "facts(\"Behaviour of the single-relaxation time collision operator\") do\n",
    "    context(\"Linear vs τ⁻¹\") do\n",
    "        @fact 2collision(1, [1], [0]) => collision(2, [1], [0])\n",
    "        @fact 3collision(1, [0], [1]) => collision(3, [0], [1])\n",
    "    end\n",
    "    context(\"Linear vs fᵢ (and feq)\") do\n",
    "        f = rand(Int8, 10)\n",
    "        @fact 2collision(1, f, zeros(f)) => collision(1, 2f, zeros(f))\n",
    "        @fact 3collision(1, zeros(f), f) => collision(1, zeros(f), 3f)\n",
    "    end\n",
    "    context(\"Anti-symmetric vs fᵢ and feq\") do\n",
    "        fᵢ, feq = rand(Int8, 10), rand(Int8, 10)\n",
    "        @fact collision(1, fᵢ, feq) => -collision(1, feq, fᵢ)\n",
    "    end\n",
    "    context(\"Lock-down the sign\") do\n",
    "        @fact collision(1, [1:10], zeros(Int8, 10)) .< 0 => all\n",
    "    end\n",
    "end\n",
    "nothing"
   ]
  },
  {
   "cell_type": "markdown",
   "metadata": {},
   "source": [
    "Note the last fact-check in the code above. It isn't there as much to test as it is to make the code a bit more future proof. It merely records the chosen sign convention: does `collision` return $\\tau^{-1}(f_{\\text{eq}}-f_i)$ or $-\\tau^{-1}(f_{\\text{eq}}-f_i)$? That's very much implementation dependent. Inadvertently changing this convention when faffing with the collision code is an easy bug to introduce. Fortunately, it is an easy bug to ward against, so why not just do it? It's two minutes now vs two days sometime later.  "
   ]
  },
  {
   "cell_type": "markdown",
   "metadata": {},
   "source": [
    "### Checking the flow of code and data -- a.k.a. Mocking\n",
    "\n",
    "Once the internal bits of code are tested, it is time to test the scaffold that puts those bits together. Mocking, e.g. replacing complex  functions with fakes can be very useful at this juncture. It allows better separation of concerns when testing: bugs introduced in internal methods will not invalidate tests that replace them with Mocks. It makes for faster testing when the mocked code replaces computationally intensive routines. And most importantly, it  means focusing the tests of integration functions specifically on  what integration functions do: coordinate the functionalities of internal routines into a whole.  In the spirit of that latter remark, mocking is really about  analyzing the flow of data  and data transformations through a piece of code.  \n",
    "\n",
    "This approach may look complicated at first. However, it truly is powerful and does simplify testing once one has wrapped one's head around it. The presentation that follows contains somewhat more boiler-plate than strictly necessary: at some point somebody will write a mocking framework for Julia and it will disappear.\n",
    "\n",
    "Lets look at  an example. The code below  is  (a simplified version of) of the main  Lattice-Boltzmann kernel as it is  applied to each lattice site:"
   ]
  },
  {
   "cell_type": "code",
   "execution_count": 6,
   "metadata": {
    "collapsed": false
   },
   "outputs": [
    {
     "data": {
      "text/plain": [
       "local_kernel (generic function with 1 method)"
      ]
     },
     "execution_count": 6,
     "metadata": {},
     "output_type": "execute_result"
    }
   ],
   "source": [
    "using LatBo: Simulation\n",
    "using LatBo.LB: LocalKernel\n",
    "function local_kernel(kernel::LocalKernel, sim::Simulation, site::Integer)\n",
    "    const feq = equilibrium(sim.lattice, sim.populations[:, site])\n",
    "    sim.populations[:, site] += collision(kernel.collision, sim.populations[:, site], feq)\n",
    "    for direction in 1:length(sim.lattice)\n",
    "        const to = neighbor_index(sim, site, direction)\n",
    "        const streamer = kernel.streamers[sim.playground[to]]\n",
    "        streaming(streamer, sim, site, to, direction)\n",
    "    end\n",
    "end"
   ]
  },
  {
   "cell_type": "markdown",
   "metadata": {
    "collapsed": true
   },
   "source": [
    "Roughly, the function proceeds for a given site as follows:\n",
    "1. compute the number of particles for each population at equilibrium\n",
    "1. collide the particles and update the number of particles\n",
    "1. loop over all population/streaming direction\n",
    "   1. figure out the index of the site that will be streamed to\n",
    "   1. figure out the type of the site (fluid or boundary of some kind)\n",
    "   1. stream the particles from this site to ... wherever\n",
    "   \n",
    "However, lets now forget about the physics and merely contemplate whether the flow of data goes as expected through the function, with the right calls. To do this we will redefine most of the inputs and functions. We will start by redefining the types, keeping only those attributes that are called explicitly in the function. "
   ]
  },
  {
   "cell_type": "code",
   "execution_count": 7,
   "metadata": {
    "collapsed": false
   },
   "outputs": [],
   "source": [
    "using LatBo: Simulation\n",
    "using LatBo.LB: Collision, Streaming, LocalKernel\n",
    "\n",
    "type MockLattice end\n",
    "\n",
    "type MockSimulation <: Simulation\n",
    "    populations::Matrix\n",
    "    playground::Matrix{Integer}\n",
    "    lattice::MockLattice\n",
    "end\n",
    "\n",
    "type MockKernel <: LocalKernel\n",
    "    collision :: Collision\n",
    "    streamers :: Dict{Integer, Streaming}\n",
    "end\n",
    "\n",
    "type MockCollision <: Collision end\n",
    "type MockStreamer <: Streaming end"
   ]
  },
  {
   "cell_type": "markdown",
   "metadata": {},
   "source": [
    "As you can see, the definition of types are strictly limited to include the data that will be needed explicitly in the function. This is a bonus we get from applying this kind of test: we have pared down the inputs explicitly down to include only the moving parts. The test becomes a specification for `local_kernel`. It tells us exactly what piece of data is important, and what is not. Now we redefine the functions:"
   ]
  },
  {
   "cell_type": "code",
   "execution_count": 8,
   "metadata": {
    "collapsed": false
   },
   "outputs": [
    {
     "data": {
      "text/plain": [
       "streaming (generic function with 1 method)"
      ]
     },
     "execution_count": 8,
     "metadata": {},
     "output_type": "execute_result"
    }
   ],
   "source": [
    "# first a function that stores the calls\n",
    "global allcalls = Any[]\n",
    "add_to_calls(args...) = push!(allcalls, args)\n",
    "\n",
    "import LatBo.LB: equilibrium\n",
    "import Base: length\n",
    "\n",
    "function equilibrium(latt::MockLattice, fᵢ::Vector)\n",
    "    add_to_calls(:equilibrium, latt, deepcopy(fᵢ))\n",
    "    ones(fᵢ)\n",
    "end\n",
    "function collision(coll::MockCollision, fᵢ::Vector, feq::Vector)\n",
    "    add_to_calls(:collision, coll, deepcopy(fᵢ), deepcopy(feq))\n",
    "    ones(fᵢ)\n",
    "end\n",
    "function length(latt::MockLattice)\n",
    "    add_to_calls(:length, latt)\n",
    "    2\n",
    "end\n",
    "function neighbor_index(sim::MockSimulation, site::Integer, direction::Integer)\n",
    "    add_to_calls(:neighbor_index, sim, site, direction)\n",
    "    3\n",
    "end\n",
    "function streaming(\n",
    "        streamer::MockStreamer, sim::MockSimulation,\n",
    "        site::Integer, to::Integer, direction::Integer)\n",
    "    add_to_calls(:streaming, streamer, sim, site, to, direction)\n",
    "end"
   ]
  },
  {
   "cell_type": "raw",
   "metadata": {},
   "source": [
    "The functions are replaced with dummies that return a fixed input. These dummies also record the arguments that were used to call them. For each function, we will be able to check what went in, and we know exactly what will come out. This makes the flow of data through `local_kernel` reproducible and testable.\n",
    "\n",
    "With all this infrastructure in hand. We can finally create the input and run the tests. It is as simple as reproducing step by step the explanation of the algorithm given above, with checks."
   ]
  },
  {
   "cell_type": "code",
   "execution_count": 9,
   "metadata": {
    "collapsed": false
   },
   "outputs": [
    {
     "name": "stdout",
     "output_type": "stream",
     "text": [
      "Analyse data-flow through local kernel\n",
      "25 facts verified.\n"
     ]
    }
   ],
   "source": [
    "using FactCheck: facts, @fact, roughly, exactly\n",
    "facts(\"Analyse data-flow through local kernel\") do\n",
    "    global allcalls\n",
    "    empty!(allcalls)\n",
    "    \n",
    "    const site = 1\n",
    "    const pop = 1. + randn(3, 10)\n",
    "    playground = 42 * ones(Int, size(pop))\n",
    "    playground[3] = 1\n",
    "    sim = MockSimulation(deepcopy(pop), playground, MockLattice())\n",
    "    kernel = MockKernel(MockCollision(), {1 => MockStreamer(), 42 => MockStreamer()})\n",
    "    \n",
    "    local_kernel(kernel, sim, site)\n",
    "    \n",
    "    # First computes equilibrium\n",
    "    @fact allcalls[1][1] => :equilibrium\n",
    "    # Check the lattice is the exact same as in sim (same object in memory)\n",
    "    @fact allcalls[1][2] => exactly(sim.lattice)\n",
    "    @fact allcalls[1][3] => roughly(pop[:, site])\n",
    "\n",
    "    # Then computes collision\n",
    "    @fact allcalls[2][1] => :collision\n",
    "    @fact allcalls[2][2] => exactly(kernel.collision)\n",
    "    @fact allcalls[2][3] => roughly(pop[:, site])\n",
    "    # This is actually the return from the call to equilibrium\n",
    "    @fact allcalls[2][4] => roughly(ones(pop[:, site]))\n",
    "    \n",
    "    # Then add result from collision to next population\n",
    "    @fact sim.populations[:, site] => roughly(pop[:, site] + 1)\n",
    "    # But other sites are untouched\n",
    "    untouched = vcat(1:(site-1), (site+1):size(pop, 2))\n",
    "    @fact sim.populations[:, untouched] => roughly(pop[:, untouched])\n",
    "    \n",
    "    # Get size of loop\n",
    "    @fact allcalls[3][1] => :length\n",
    "    @fact allcalls[3][2] => exactly(sim.lattice)\n",
    "    \n",
    "    # And run though loop twice\n",
    "    direction = 1\n",
    "    for i in 1:2:4\n",
    "        # get index\n",
    "        @fact allcalls[3 + i][1] => :neighbor_index\n",
    "        @fact allcalls[3 + i][2] => exactly(sim)\n",
    "        @fact allcalls[3 + i][3:end] => (site, direction)\n",
    "        # then call streaming\n",
    "        @fact allcalls[4 + i][1] => :streaming\n",
    "        @fact allcalls[4 + i][2] => exactly(kernel.streamers[1])\n",
    "        @fact allcalls[4 + i][3] => exactly(sim)\n",
    "        @fact allcalls[4 + i][4:end] => (site, 3, direction)\n",
    "        direction += 1\n",
    "    end\n",
    "end\n",
    "nothing"
   ]
  },
  {
   "cell_type": "markdown",
   "metadata": {},
   "source": [
    "This is fairly well decoupled from the rest of the code in LatBo. Yet it checks exactly the algorithm we would expect to take place in the local kernel: how the populations are transformed and which function calls are made. Strangely, there is no need to understand much of the underlying physics. Instead we place ourselves in a state of mind where we mimic the computer walking through the algorithm. Of course, if the algorithm does not recover the science it means to model, then this will not be the test to uncover such an error (although one could run the test using more physical data). Rather, it aims to ensure that we implemented exactly what we thought we were implementing. "
   ]
  }
 ],
 "metadata": {
  "kernelspec": {
   "display_name": "Julia 0.3.7",
   "language": "julia",
   "name": "julia-0.3"
  },
  "language_info": {
   "name": "julia",
   "version": "0.3.7"
  }
 },
 "nbformat": 4,
 "nbformat_minor": 0
}
